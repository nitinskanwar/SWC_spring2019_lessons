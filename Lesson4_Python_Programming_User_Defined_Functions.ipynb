{
 "cells": [
  {
   "cell_type": "markdown",
   "metadata": {},
   "source": [
    "# Programming with Python\n",
    "**SWC workshop: February 23-24, 2019**\n",
    "#### This lesson is based on Software and Data Carpentry lessons:  \n",
    "* http://swcarpentry.github.io/python-novice-inflammation/\n",
    "* https://datacarpentry.org/python-ecology-lesson/\n",
    "\n",
    "**Instructor: Joe Cloud**  "
   ]
  },
  {
   "cell_type": "markdown",
   "metadata": {},
   "source": [
    "## Learning Objectives:\n",
    "* Understand general structure of Python program\n",
    "* Learn how to write user-defined functions\n",
    "* Learn how to run python scripts from the command line\n",
    "* Learn how to pass arguments to python scripts from the command line"
   ]
  },
  {
   "cell_type": "markdown",
   "metadata": {},
   "source": [
    "Before we start, let's make a folder called `python_programming` inside `SWC_spring2019` folder. Then copy `gapminder.txt` from `Data` folder to `python_programming`. You can do that from `SWC_spring2019` folder using the terminal with Bash commands:   \n",
    "`$ mkdir Python_programming`    \n",
    "`$ cp Data/gapminder.txt python_programming/`"
   ]
  },
  {
   "cell_type": "markdown",
   "metadata": {},
   "source": [
    "### General structure of Python program  \n",
    "Let's start by revisiting the script your wrote with Balan yesterday:"
   ]
  },
  {
   "cell_type": "code",
   "execution_count": 1,
   "metadata": {},
   "outputs": [
    {
     "data": {
      "text/plain": [
       "<Figure size 1000x800 with 1 Axes>"
      ]
     },
     "metadata": {},
     "output_type": "display_data"
    }
   ],
   "source": [
    "##This is  MeanGdpPlot.py script\n",
    "\n",
    "#Import pandas and pylab\n",
    "import pandas as pd\n",
    "import matplotlib.pyplot as plt      \n",
    "\n",
    "#read data into python\n",
    "my_file = pd.read_csv(\"gapminder.txt\", sep = \"\\t\")\n",
    "\n",
    "#select information about Africa\n",
    "Africa = my_file[my_file.continent == \"Africa\"]\n",
    "\n",
    "#calculate the mean\n",
    "Africa_Mean = Africa.iloc[:,5].mean()\n",
    "\n",
    "#Do the same for Europe\n",
    "Europe = my_file[my_file.continent == \"Europe\"]\n",
    "Europe_Mean = Europe.iloc[:,5].mean()\n",
    "\n",
    "# Create a List to store the values\n",
    "continents = [\"Africa\",\"Europe\"]\n",
    "mean_gdp = [Africa_Mean, Europe_Mean]\n",
    "\n",
    "# Set figure width to 10 and height to 8\n",
    "fig_size = plt.rcParams[\"figure.figsize\"]\n",
    "fig_size[0] = 10\n",
    "fig_size[1] = 8\n",
    "plt.rcParams[\"figure.figsize\"] = fig_size\n",
    "\n",
    "#Plot the graph with Y axis label and Title\n",
    "plt.bar(continents,mean_gdp,align='center')\n",
    "plt.ylabel('Mean GDP/Capita')\n",
    "plt.title('Mean GDP per Capita in Africa Vs Europe')\n",
    "plt.savefig(\"Mean_GDP_Plot.png\")\n",
    "\n",
    "# For personal visualization:\n",
    "plt.show()"
   ]
  },
  {
   "cell_type": "markdown",
   "metadata": {},
   "source": [
    "In general python program can subdivided into following parts:\n",
    "\n",
    "* Script description (brief summary about what the script does)\n",
    "* Import statements ( tell us what libraries are used in the program)\n",
    "* Loading data (tells us what data is used in the program)\n",
    "* Data analysis (selecting parts of the data we are interested in and analyzing it (stats + visualization)"
   ]
  },
  {
   "cell_type": "markdown",
   "metadata": {},
   "source": [
    "You might want to document these parts in your script to improve the readability of your program. Something like this?"
   ]
  },
  {
   "cell_type": "code",
   "execution_count": 2,
   "metadata": {},
   "outputs": [
    {
     "data": {
      "image/png": "[encoded data removed]",
      "text/plain": [
       "<Figure size 720x576 with 1 Axes>"
      ]
     },
     "metadata": {
      "needs_background": "light"
     },
     "output_type": "display_data"
    }
   ],
   "source": [
    "#!/usr/bin/env python3\n",
    "\n",
    "\"\"\" \n",
    "This is  MeanGdpPlot.py script\n",
    "This script uses gapminder.txt to calculate and plot mean GDP per capita for African and European countries \n",
    "\"\"\"\n",
    "\n",
    "####### import statements ##########\n",
    "import pandas as pd\n",
    "import matplotlib.pyplot as plt      \n",
    "\n",
    "####### reading data into Python ##########\n",
    "my_file = pd.read_csv(\"gapminder.txt\", sep = \"\\t\")\n",
    "\n",
    "\n",
    "####### data analysis #########\n",
    "#select information about Africa\n",
    "Africa = my_file[my_file.continent == \"Africa\"]\n",
    "\n",
    "#calculate the mean\n",
    "Africa_Mean = Africa.iloc[:,5].mean()\n",
    "\n",
    "#Do the same for Europe\n",
    "Europe = my_file[my_file.continent == \"Europe\"]\n",
    "Europe_Mean = Europe.iloc[:,5].mean()\n",
    "\n",
    "# Create a List to store the values\n",
    "continents = [\"Africa\",\"Europe\"]\n",
    "mean_gdp = [Africa_Mean, Europe_Mean]\n",
    "\n",
    "# Set figure width to 10 and height to 8\n",
    "fig_size = plt.rcParams[\"figure.figsize\"]\n",
    "fig_size[0] = 10\n",
    "fig_size[1] = 8\n",
    "plt.rcParams[\"figure.figsize\"] = fig_size\n",
    "\n",
    "#Plot the graph with Y axis label and Title\n",
    "plt.bar(continents,mean_gdp,align='center')\n",
    "plt.ylabel('Mean GDP/Capita')\n",
    "plt.title('Mean GDP per Capita in Africa Vs Europe')\n",
    "plt.savefig(\"Mean_GDP_Plot.png\")"
   ]
  },
  {
   "cell_type": "markdown",
   "metadata": {},
   "source": [
    "### User-defined functions\n",
    "\n",
    "There is a large improvement we can make to this script. Notice that we repeat some commands two times in this script. We select data about Africa, calculate mean gdp and then do the same for Europe. This way of writing a program introduces potential to make typos every time we type the command. It also makes script long and tedious to read - what if I wanted to calculate mean GDP for all 142 countries in our dataset? There is a better way to write a script that requires repeating the same commands with different inputs. If you find yourself rewriting the same command in your script, you should write a function to do the task. \n",
    "  \n",
    "You have used function before: `pd.read_table()` is a function that reads file into python. This function takes a file as an argument and outputs a dataframe. This is a `built-in` function, it was written by python developers, and python knows what it is when you try to use it. You can think of `pd.read_table()` as a script name for a script that includes many lines of code that allows the user to load files into python. Or think of `pd.read_table()` as an alias to a multi-line script. Notice that we provide different file names to this function and it executed identical code to every file we provide. Think again about our program - it would be nice to have a function `getContinent()` so that when we use it, we could just provide the name of the continent we are interested in and get back the subset of the data frame with the information about the requested continent. There is no built-in function for that, but we can write one ourselves. When we write our own functions, they are called `user-defined` functions.  \n",
    "  \n",
    "Let's start with an example first, and we will return to `getContinent()` later.  "
   ]
  },
  {
   "cell_type": "markdown",
   "metadata": {},
   "source": [
    "Remember, functions gather a sequence of operations into a whole, preserving it for ongoing use. Functions provide:\n",
    "\n",
    "* a name we can remember and invoke it by\n",
    "* relief from the need to remember the individual operations\n",
    "* a defined set of inputs and expected outputs\n",
    "\n",
    "Let's see how functions do that with an example.\n",
    "Let's define a function that adds 10 to any number we give to it, call it `AddTen()`"
   ]
  },
  {
   "cell_type": "code",
   "execution_count": 3,
   "metadata": {},
   "outputs": [],
   "source": [
    "def AddTen(number):\n",
    "    answer = 10 + number\n",
    "    return answer    "
   ]
  },
  {
   "cell_type": "markdown",
   "metadata": {},
   "source": [
    "The definition opens with `def` keyword followed by the name of your new function(AddTen). The input into the function is provided in parentheses. The input to the function is also known as a parameter. In this case we have just one, but there could be more. The first line of function definition ends with `:`.   The body of the function — the statements that are executed when it runs — is indented below the definition line. Indentation is required in Python and 4 spaces are usually recommended. The body of the function is the set of statements that are executed when the function is used (or called). The body concludes with a return keyword followed by the return value.\n",
    "\n",
    "When we call the function, the values we pass to it are assigned to those variables so that we can use them inside the function. The last line within the function is what Python will evaluate as a returning value. For example, let’s try running our function. Calling our own function is no different from calling any other function:"
   ]
  },
  {
   "cell_type": "code",
   "execution_count": 4,
   "metadata": {},
   "outputs": [
    {
     "data": {
      "text/plain": [
       "15"
      ]
     },
     "execution_count": 4,
     "metadata": {},
     "output_type": "execute_result"
    }
   ],
   "source": [
    "AddTen(5)"
   ]
  },
  {
   "cell_type": "markdown",
   "metadata": {},
   "source": [
    "Here number variable gets the value of 5, and commands inside the functions are executed. The output of the functions is specified by `return` statement"
   ]
  },
  {
   "cell_type": "markdown",
   "metadata": {},
   "source": [
    "**Challenge 1**\n",
    "\n",
    "Write a function called `fence` that takes two parameters called `original` and `wrapper` and returns a new string that has\n",
    "the wrapper character at the beginning and end of the original.  \n",
    "Hint: to concatinate strings, use `+` operator\n",
    "Example of function call:  \n",
    "`fence('name', '---')`  \n",
    "Expected output:  \n",
    "`---name---`  \n"
   ]
  },
  {
   "cell_type": "markdown",
   "metadata": {},
   "source": [
    "**Solution to challenge 1**"
   ]
  },
  {
   "cell_type": "code",
   "execution_count": 5,
   "metadata": {},
   "outputs": [],
   "source": [
    "def fence(original, wrapper):  \n",
    "    new_string=wrapper + original + wrapper\n",
    "    return new_string"
   ]
  },
  {
   "cell_type": "code",
   "execution_count": 6,
   "metadata": {},
   "outputs": [
    {
     "data": {
      "text/plain": [
       "'---Joe---'"
      ]
     },
     "execution_count": 6,
     "metadata": {},
     "output_type": "execute_result"
    }
   ],
   "source": [
    "fence('Joe','---')"
   ]
  },
  {
   "cell_type": "markdown",
   "metadata": {},
   "source": [
    "Now let's get back to our script analyzing gapminder.txt and see how we can improve it with user-defined functions.\n",
    "What tasks could we wrap up in a function here?\n",
    "\n",
    "What repetitive tasks are we performing?"
   ]
  },
  {
   "cell_type": "code",
   "execution_count": 7,
   "metadata": {},
   "outputs": [
    {
     "data": {
      "image/png": "[encoded data removed]",
      "text/plain": [
       "<Figure size 720x576 with 1 Axes>"
      ]
     },
     "metadata": {
      "needs_background": "light"
     },
     "output_type": "display_data"
    }
   ],
   "source": [
    "#!/usr/bin/env python3\n",
    "\"\"\" \n",
    "This is  MeanGdpPlot.py script\n",
    "This script uses gapminder.txt to calculate and plot mean GDP per capita for African and European countries \n",
    "\"\"\"\n",
    "\n",
    "####### import statements ##########\n",
    "import pandas as pd\n",
    "import matplotlib.pyplot as plt      \n",
    "import pylab\n",
    "\n",
    "####### reading data into Python ##########\n",
    "my_file = pd.read_csv(\"gapminder.txt\", sep = \"\\t\")\n",
    "\n",
    "\n",
    "####### data analysis #########\n",
    "#select information about Africa\n",
    "Africa = my_file[my_file.continent == \"Africa\"]\n",
    "\n",
    "#calculate the mean\n",
    "Africa_Mean = Africa.iloc[:,5].mean()\n",
    "\n",
    "#Do the same for Europe\n",
    "Europe = my_file[my_file.continent == \"Europe\"]\n",
    "Europe_Mean = Europe.iloc[:,5].mean()\n",
    "\n",
    "# Create a List to store the values\n",
    "continents = [\"Africa\",\"Europe\"]\n",
    "mean_gdp = [Africa_Mean, Europe_Mean]\n",
    "\n",
    "# Set figure width to 10 and height to 8\n",
    "fig_size = plt.rcParams[\"figure.figsize\"]\n",
    "fig_size[0] = 10\n",
    "fig_size[1] = 8\n",
    "plt.rcParams[\"figure.figsize\"] = fig_size\n",
    "\n",
    "#Plot the graph with Y axis label and Title\n",
    "plt.bar(continents,mean_gdp,align='center')\n",
    "plt.ylabel('Mean GDP/Capita')\n",
    "plt.title('Mean GDP per Capita in Africa Vs Europe')\n",
    "plt.savefig(\"Mean_GDP_Plot.png\")"
   ]
  },
  {
   "cell_type": "markdown",
   "metadata": {},
   "source": [
    "We are using `my_file[my_file.continent == \"Africa\"]` twice - for Africa and Europe.  This is a long line, you really do not want to type it over and over if you need information about more than one contient.  So how can we write `getContinent()` function that would take a data frame and a name of a continent as inputs and output the data frame that ONLY contains information about that continent? "
   ]
  },
  {
   "cell_type": "code",
   "execution_count": 8,
   "metadata": {},
   "outputs": [
    {
     "name": "stdout",
     "output_type": "stream",
     "text": [
      "    country continent  year  lifeExp       pop    gdpPercap\n",
      "24  Algeria    Africa  1952   43.077   9279525  2449.008185\n",
      "25  Algeria    Africa  1957   45.685  10270856  3013.976023\n",
      "26  Algeria    Africa  1962   48.303  11000948  2550.816880\n",
      "27  Algeria    Africa  1967   51.407  12760499  3246.991771\n",
      "28  Algeria    Africa  1972   54.518  14760787  4182.663766\n",
      "    country continent  year  lifeExp      pop    gdpPercap\n",
      "12  Albania    Europe  1952    55.23  1282697  1601.056136\n",
      "13  Albania    Europe  1957    59.28  1476505  1942.284244\n",
      "14  Albania    Europe  1962    64.82  1728137  2312.888958\n",
      "15  Albania    Europe  1967    66.22  1984060  2760.196931\n",
      "16  Albania    Europe  1972    67.69  2263554  3313.422188\n"
     ]
    }
   ],
   "source": [
    "def getContinent(continent, df):\n",
    "    my_continent = df[df.continent == continent]\n",
    "    return my_continent\n",
    "\n",
    "# call getContinent() function with `Africa`\n",
    "Africa=getContinent('Africa', my_file)\n",
    "print(Africa.head())\n",
    "\n",
    "# call getContinent() function with `Europe`\n",
    "Europe=getContinent('Europe', my_file)\n",
    "print(Europe.head())"
   ]
  },
  {
   "cell_type": "markdown",
   "metadata": {},
   "source": [
    "Min advantage of functions: we define/write function one time, but use it multiple times."
   ]
  },
  {
   "cell_type": "markdown",
   "metadata": {},
   "source": [
    "How else can the code be simplified with user-defined functions?"
   ]
  },
  {
   "cell_type": "code",
   "execution_count": 9,
   "metadata": {},
   "outputs": [],
   "source": [
    "# get mean of any column from data frame\n",
    "def getMean(column_name, df):\n",
    "    return df.loc[:,column_name].mean()"
   ]
  },
  {
   "cell_type": "markdown",
   "metadata": {},
   "source": [
    "And"
   ]
  },
  {
   "cell_type": "code",
   "execution_count": 10,
   "metadata": {},
   "outputs": [],
   "source": [
    "def plot_bar(continents_list, meanData_list, y_label, title, figure_name):\n",
    "    # Set figure width to 10 and height to 8\n",
    "    fig_size = plt.rcParams[\"figure.figsize\"]\n",
    "    fig_size[0] = 10\n",
    "    fig_size[1] = 8\n",
    "    plt.rcParams[\"figure.figsize\"] = fig_size\n",
    "\n",
    "    #Plot the graph with Y axis label and Title\n",
    "    plt.bar(continents_list,meanData_list,align='center')\n",
    "    plt.ylabel(y_label)\n",
    "    plt.title(title)\n",
    "    plt.savefig(figure_name)"
   ]
  },
  {
   "cell_type": "markdown",
   "metadata": {},
   "source": [
    "Some might notice that the matplotlib params will not change every time the function is called. \n",
    "So it may be better to place it outside the function.\n",
    "\n",
    "With these changes, our script would look like this:"
   ]
  },
  {
   "cell_type": "code",
   "execution_count": 11,
   "metadata": {},
   "outputs": [
    {
     "data": {
      "image/png": "[encoded data removed]",
      "text/plain": [
       "<Figure size 720x576 with 1 Axes>"
      ]
     },
     "metadata": {
      "needs_background": "light"
     },
     "output_type": "display_data"
    }
   ],
   "source": [
    "\"\"\" \n",
    "This is  MeanPlot.py script\n",
    "This script uses gapminder.txt to calculate and plot mean GDP per capita for African and European countries \n",
    "\"\"\"\n",
    "\n",
    "####### import statements ##########\n",
    "import pandas as pd\n",
    "import matplotlib.pyplot as plt      \n",
    "import pylab\n",
    "\n",
    "####### user-defined functions #########\n",
    "def getContinent(continent, df):\n",
    "    my_continent = df[df.continent == continent]\n",
    "    return my_continent\n",
    "\n",
    "def getMean(column_name, df):\n",
    "    return df.loc[:,column_name].mean()\n",
    "\n",
    "def plot_bar(continents_list, meanData_list, y_label, title, figure_name):\n",
    "    # Set figure width to 10 and height to 8\n",
    "    fig_size = plt.rcParams[\"figure.figsize\"]\n",
    "    fig_size[0] = 10\n",
    "    fig_size[1] = 8\n",
    "    plt.rcParams[\"figure.figsize\"] = fig_size\n",
    "\n",
    "    #Plot the graph with Y axis label and Title\n",
    "    plt.bar(continents_list,meanData_list,align='center')\n",
    "    plt.ylabel(y_label)\n",
    "    plt.title(title)\n",
    "    plt.savefig(figure_name)\n",
    "\n",
    "####### end user-defined functions #########\n",
    "\n",
    "\n",
    "####### reading data into Python ##########\n",
    "my_file = pd.read_csv(\"gapminder.txt\", sep = \"\\t\")\n",
    "\n",
    "\n",
    "####### data analysis #########\n",
    "#select information about Africa\n",
    "Africa=getContinent('Africa', my_file)\n",
    "\n",
    "#calculate the mean\n",
    "Africa_mean=getMean('gdpPercap', Africa)\n",
    "\n",
    "#Do the same for Europe\n",
    "Europe = getContinent('Europe', my_file)\n",
    "Europe_mean=getMean('gdpPercap', Europe)\n",
    "\n",
    "# Create a List to store the values\n",
    "continents = [\"Africa\",\"Europe\"]\n",
    "means = [Africa_Mean, Europe_Mean]\n",
    "\n",
    "# plot\n",
    "plot_bar(continents, means, 'meanGDP', 'Mean GDP per capita: Africa vs Europe', 'Mean_Gdp.png')"
   ]
  },
  {
   "cell_type": "markdown",
   "metadata": {},
   "source": [
    "We have an improved script here, but we are still repeting `getContinent()` and `getMean()` functions twice.  \n",
    "\n",
    "**Challenge 2**  \n",
    "Write a function called `getMeanPerContinent()` that will take `continent`,`column_name` and `df` parameters and output the mean of a user-specified column for user-specified continent?  \n",
    "\n",
    "**Solution** to Challenge 2:  \n",
    "Option 1:"
   ]
  },
  {
   "cell_type": "code",
   "execution_count": 12,
   "metadata": {},
   "outputs": [],
   "source": [
    "def getMeanPerContinent(continent, column_name, df):\n",
    "    my_continent = df[df.continent == continent]\n",
    "    continent_mean=my_continent.loc[:,column_name].mean()\n",
    "    return my_mean"
   ]
  },
  {
   "cell_type": "markdown",
   "metadata": {},
   "source": [
    "Option 2:  "
   ]
  },
  {
   "cell_type": "code",
   "execution_count": 13,
   "metadata": {},
   "outputs": [],
   "source": [
    "def getMeanPerContinent(continent, column_name, df):\n",
    "    my_continent=getContinent(continent, df)\n",
    "    continent_mean=getMean(column_name, my_continent)\n",
    "    return continent_mean"
   ]
  },
  {
   "cell_type": "markdown",
   "metadata": {},
   "source": [
    "Which one is better? Why?  \n",
    "The second option reuses the functions we already defined and if we need to use just `getContinent()` or `getMean()` functions separetely, we still can do it. It is better to write small functions that do specific tasks and then combine them to perform more complicated tasks.  \n",
    "This is our first taste of how larger programs are built: we define basic operations, then combine them in ever-large chunks to get the effect we want. Real-life functions will usually be larger than the ones shown here — typically half a dozen to a few dozen lines — but they shouldn’t ever be much longer than that, or the next person who reads it won’t be able to understand what’s going on."
   ]
  },
  {
   "cell_type": "markdown",
   "metadata": {},
   "source": [
    "With this improvement, our script will look like this:"
   ]
  },
  {
   "cell_type": "code",
   "execution_count": 14,
   "metadata": {},
   "outputs": [
    {
     "data": {
      "image/png": "[encoded data removed]",
      "text/plain": [
       "<Figure size 720x576 with 1 Axes>"
      ]
     },
     "metadata": {
      "needs_background": "light"
     },
     "output_type": "display_data"
    }
   ],
   "source": [
    "\"\"\" \n",
    "This is  MeanPlot.py script\n",
    "This script uses gapminder.txt to calculate and plot mean GDP per capita for African and European countries \n",
    "\"\"\"\n",
    "\n",
    "####### import statements ##########\n",
    "import pandas as pd\n",
    "import matplotlib.pyplot as plt      \n",
    "import pylab\n",
    "\n",
    "####### user-defined functions #########\n",
    "def getContinent(continent, df):\n",
    "    my_continent = df[df.continent == continent]\n",
    "    return my_continent\n",
    "\n",
    "def getMean(column_name, df):\n",
    "    return df.loc[:,column_name].mean()\n",
    "\n",
    "def getMeanPerContinent(continent, column_name, df):\n",
    "    my_continent=getContinent(continent, df)\n",
    "    continent_mean=getMean(column_name, my_continent)\n",
    "    return continent_mean\n",
    "\n",
    "def plot_bar(continents_list, meanData_list, y_label, title, figure_name):\n",
    "    # Set figure width to 10 and height to 8\n",
    "    fig_size = plt.rcParams[\"figure.figsize\"]\n",
    "    fig_size[0] = 10\n",
    "    fig_size[1] = 8\n",
    "    plt.rcParams[\"figure.figsize\"] = fig_size\n",
    "\n",
    "    #Plot the graph with Y axis label and Title\n",
    "    plt.bar(continents_list,meanData_list,align='center')\n",
    "    plt.ylabel(y_label)\n",
    "    plt.title(title)\n",
    "    plt.savefig(figure_name)\n",
    "\n",
    "####### end user-defined functions #########\n",
    "\n",
    "\n",
    "####### reading data into Python ##########\n",
    "my_file = pd.read_csv(\"gapminder.txt\", sep = \"\\t\")\n",
    "\n",
    "\n",
    "####### data analysis #########\n",
    "\n",
    "#calculate means for Africa and Europe\n",
    "Africa_Mean = getMeanPerContinent('Africa','gdpPercap', my_file)\n",
    "Europe_Mean = getMeanPerContinent('Europe','gdpPercap', my_file)\n",
    "\n",
    "# Create a List to store the values\n",
    "continents = [\"Africa\",\"Europe\"]\n",
    "means = [Africa_Mean, Europe_Mean]\n",
    "\n",
    "# plot\n",
    "plot_bar(continents, means, 'meanGDP', 'Mean GDP per capita: Africa vs Europe', 'Mean_Gdp.png')"
   ]
  },
  {
   "cell_type": "markdown",
   "metadata": {},
   "source": [
    "Notice, we are moving as much code as possible into functions. This improves readability and makes our program more modular.\n",
    "The data analysis part of the script is easy to read, if we really want to know means per continent were calculated, we can look it up in function definintion"
   ]
  },
  {
   "cell_type": "markdown",
   "metadata": {},
   "source": [
    "### Running Python scripts from the command line\n",
    "\n",
    "Jupyter notebook is helpful for writing scripts for its interactive feature where you can check that every command works as intended. But at the end, python scripts are just text files with a series of commands written in the order of execution. We can save our final script as `MeanPlot.py` into our `Python_programming` directory. Now you can open terminal, navigate to `Python_programming`  and run this script from the command line:  \n",
    "`$ python MeanPlot.py`"
   ]
  },
  {
   "cell_type": "markdown",
   "metadata": {},
   "source": [
    "### Passing command-line arguments to python scripts\n",
    "\n",
    "Remember how you passed command-line arguments to Bash script yesterday?   \n",
    "`$ ./MyScript.sh inputFile`  \n",
    "In Bash, there are special variables, `$1`,`$2`, ... inside shell script. The values assigned to these variables are supplied at the command line.  \n",
    "In Python, command-line arguments are stored in a special list, `sys.argv`. To use this list we need to import `sys` library.  \n",
    "Let's modify MeanPlot.py to supply input file at the command line. Call it `MeanPLot2.py`"
   ]
  },
  {
   "cell_type": "code",
   "execution_count": null,
   "metadata": {},
   "outputs": [],
   "source": [
    "\"\"\" \n",
    "This is  MeanPlot2.py script\n",
    "This script uses gapminder.txt to calculate and plot mean GDP per capita for African and European countries \n",
    "\"\"\"\n",
    "\n",
    "####### import statements ##########\n",
    "import pandas as pd\n",
    "import matplotlib.pyplot as plt      \n",
    "import pylab\n",
    "import sys\n",
    "\n",
    "####### user-defined functions #########\n",
    "def getContinent(continent, df):\n",
    "    my_continent = df[df.continent == continent]\n",
    "    return my_continent\n",
    "\n",
    "def getMean(column_name, df):\n",
    "    return df.loc[:,column_name].mean()\n",
    "\n",
    "def getMeanPerContinent(continent, column_name, df):\n",
    "    my_continent=getContinent(continent, df)\n",
    "    continent_mean=getMean(column_name, my_continent)\n",
    "    return continent_mean\n",
    "\n",
    "def plot_bar(continents_list, meanData_list, y_label, title, figure_name):\n",
    "    # Set figure width to 10 and height to 8\n",
    "    fig_size = plt.rcParams[\"figure.figsize\"]\n",
    "    fig_size[0] = 10\n",
    "    fig_size[1] = 8\n",
    "    plt.rcParams[\"figure.figsize\"] = fig_size\n",
    "\n",
    "    #Plot the graph with Y axis label and Title\n",
    "    plt.bar(continents_list,meanData_list,align='center')\n",
    "    plt.ylabel(y_label)\n",
    "    plt.title(title)\n",
    "    plt.savefig(figure_name)\n",
    "    \n",
    "####### end user-defined functions #########\n",
    "\n",
    "\n",
    "####### reading data into Python ##########\n",
    "inFile = sys.argv[1]\n",
    "my_file = pd.read_table(inFile)\n",
    "\n",
    "\n",
    "####### data analysis #########\n",
    "\n",
    "#calculate means for Africa and Europe\n",
    "Africa_Mean = getMeanPerContinent('Africa','gdpPercap', my_file)\n",
    "Europe_Mean = getMeanPerContinent('Europe','gdpPercap', my_file)\n",
    "\n",
    "# Create a List to store the values\n",
    "continents = [\"Africa\",\"Europe\"]\n",
    "means = [Africa_Mean, Europe_Mean]\n",
    "\n",
    "# plot\n",
    "plot_bar(continents, means, 'meanGDP', 'Mean GDP per capita: Africa vs Europe', 'Mean_Gdp.png')"
   ]
  },
  {
   "cell_type": "markdown",
   "metadata": {},
   "source": [
    "To run this script from the command line, save as MeanPlot2.py, open terminal and type:  \n",
    "`$ python MeanPlot2.py gapminder.txt`"
   ]
  },
  {
   "cell_type": "markdown",
   "metadata": {},
   "source": [
    "**Challenge 3**  \n",
    "Modify `MeanPlot2.py` to plot mean life expectancy for 3 continents of your choice. Save as `MeanPlot3.py`  \n",
    "\n",
    "  \n",
    "**Solution to Challenge 3**"
   ]
  },
  {
   "cell_type": "code",
   "execution_count": null,
   "metadata": {},
   "outputs": [],
   "source": [
    "\"\"\" \n",
    "This is  MeanPlot2.py script\n",
    "This script uses gapminder.txt to calculate and plot mean GDP per capita for African and European countries \n",
    "\"\"\"\n",
    "\n",
    "####### import statements ##########\n",
    "import pandas as pd\n",
    "import matplotlib.pyplot as plt      \n",
    "import pylab\n",
    "import sys\n",
    "\n",
    "####### user-defined functions #########\n",
    "def getContinent(continent, df):\n",
    "    my_continent = df[df.continent == continent]\n",
    "    return my_continent\n",
    "\n",
    "def getMean(column_name, df):\n",
    "    return df.loc[:,column_name].mean()\n",
    "\n",
    "def getMeanPerContinent(continent, column_name, df):\n",
    "    my_continent=getContinent(continent, df)\n",
    "    continent_mean=getMean(column_name, my_continent)\n",
    "    return continent_mean\n",
    "\n",
    "def plot_bar(continents_list, meanData_list, y_label, title, figure_name):\n",
    "    # Set figure width to 10 and height to 8\n",
    "    fig_size = plt.rcParams[\"figure.figsize\"]\n",
    "    fig_size[0] = 10\n",
    "    fig_size[1] = 8\n",
    "    plt.rcParams[\"figure.figsize\"] = fig_size\n",
    "\n",
    "    #Plot the graph with Y axis label and Title\n",
    "    plt.bar(continents_list,meanData_list,align='center')\n",
    "    plt.ylabel(y_label)\n",
    "    plt.title(title)\n",
    "    plt.savefig(figure_name)\n",
    "    \n",
    "####### end user-defined functions #########\n",
    "\n",
    "\n",
    "####### reading data into Python ##########\n",
    "inFile = sys.argv[1]\n",
    "my_file = pd.read_table(inFile)\n",
    "\n",
    "\n",
    "####### data analysis #########\n",
    "\n",
    "#calculate means for Africa and Europe\n",
    "Africa_Mean = getMeanPerContinent('Africa','gdpPercap', my_file)\n",
    "Europe_Mean = getMeanPerContinent('Europe','gdpPercap', my_file)\n",
    "Asia_Mean = getMeanPerContinent('Asia','gdpPercap', my_file)\n",
    "\n",
    "# Create a List to store the values\n",
    "continents = [\"Africa\",\"Europe\", \"Asia\"]\n",
    "means = [Africa_Mean, Europe_Mean, Asia_Mean]\n",
    "\n",
    "# plot\n",
    "plot_bar(continents, means, 'meanGDP', 'Mean GDP per capita: Africa vs Europe vs Asia', 'Mean_Gdp.png')"
   ]
  },
  {
   "cell_type": "markdown",
   "metadata": {},
   "source": [
    "**Challenge 3  OLD - DON'T USE**\n",
    "\n",
    "Modify `MeanPlot2.py` to plot mean life expectancy for 3 countries of your choice. Save as `MeanPlot3.py`  \n",
    "Remember, you can view the list of available countries with `my_file['country'].unique()` command in Jupyter Notebook\n",
    "or from the terminal like this: `cut -f1 gapminder.txt|sort|uniq`  \n",
    "  \n",
    "**Solution to Challenge 3**"
   ]
  },
  {
   "cell_type": "code",
   "execution_count": null,
   "metadata": {},
   "outputs": [],
   "source": [
    "\"\"\" \n",
    "This is  MeanPlot3.py script\n",
    "This script uses gapminder.txt to calculate and plot mean life expectancy for Norway, Uruguay and Mexico\n",
    "\"\"\"\n",
    "\n",
    "####### import statements ##########\n",
    "import pandas as pd\n",
    "import matplotlib.pyplot as plt      \n",
    "import pylab\n",
    "import sys\n",
    "\n",
    "####### user-defined functions #########\n",
    "def getCountry(country, df):\n",
    "    my_country = df[df.country == country]\n",
    "    return my_country\n",
    "\n",
    "def getMean(column_name, df):\n",
    "    return df.loc[:,column_name].mean()\n",
    "\n",
    "def getMeanPerCountry(country, column_name, df):\n",
    "    my_country=getCountry(country, df)\n",
    "    country_mean=getMean(column_name, my_country)\n",
    "    return country_mean\n",
    "\n",
    "def plot_bar(country_list, meanData_list, y_label, title, figure_name):\n",
    "    # Set figure width to 10 and height to 8\n",
    "    fig_size = plt.rcParams[\"figure.figsize\"]\n",
    "    fig_size[0] = 10\n",
    "    fig_size[1] = 8\n",
    "    plt.rcParams[\"figure.figsize\"] = fig_size\n",
    "\n",
    "    #Plot the graph with Y axis label and Title\n",
    "    plt.bar(country_list,meanData_list,align='center')\n",
    "    plt.ylabel(y_label)\n",
    "    plt.title(title)\n",
    "    plt.savefig(figure_name)\n",
    "    \n",
    "####### end user-defined functions #########\n",
    "\n",
    "\n",
    "####### reading data into Python ##########\n",
    "inFile = sys.argv[1]\n",
    "my_file = pd.read_table(inFile)\n",
    "\n",
    "\n",
    "####### data analysis #########\n",
    "\n",
    "#calculate means for Africa and Europe\n",
    "Norway_Mean = getMeanPerCountry('Norway','lifeExp', my_file)\n",
    "Urugay_Mean = getMeanPerCountry('Uruguay','lifeExp', my_file)\n",
    "Mexico_Mean = getMeanPerCountry('Mexico','lifeExp', my_file)\n",
    "\n",
    "# Create a List to store the values\n",
    "countries = [\"Norway\",\"Uruguay\",\"Mexico\"]\n",
    "means = [Norway_Mean, Urugay_Mean, Mexico_Mean]\n",
    "\n",
    "# plot\n",
    "plot_bar(countries, means, 'mean Life expectancy', 'Mean Life expectancy', 'Mean_lifeExp.png')"
   ]
  },
  {
   "cell_type": "markdown",
   "metadata": {},
   "source": [
    "Run this: `python MeanPlot3.py gapminder.txt`\n",
    "\n",
    "Given extra time: Discuss `__main__`"
   ]
  },
  {
   "cell_type": "markdown",
   "metadata": {},
   "source": [
    "## Resources:\n",
    "https://www.tutorialspoint.com/python/python_functions.htm  \n",
    "https://realpython.com/documenting-python-code/"
   ]
  }
 ],
 "metadata": {
  "kernelspec": {
   "display_name": "Python 3",
   "language": "python",
   "name": "python3"
  },
  "language_info": {
   "codemirror_mode": {
    "name": "ipython",
    "version": 3
   },
   "file_extension": ".py",
   "mimetype": "text/x-python",
   "name": "python",
   "nbconvert_exporter": "python",
   "pygments_lexer": "ipython3",
   "version": "3.5.2"
  }
 },
 "nbformat": 4,
 "nbformat_minor": 2
}
